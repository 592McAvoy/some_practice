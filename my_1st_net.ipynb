{
 "cells": [
  {
   "cell_type": "code",
   "execution_count": 1,
   "metadata": {},
   "outputs": [
    {
     "name": "stdout",
     "output_type": "stream",
     "text": [
      "Files already downloaded and verified\n",
      "Files already downloaded and verified\n"
     ]
    }
   ],
   "source": [
    "# 1.Load data\n",
    "import torch\n",
    "import torchvision\n",
    "import torchvision.transforms as transforms\n",
    "\n",
    "transform = transforms.Compose(\n",
    "    [transforms.ToTensor(),\n",
    "     transforms.Normalize((0.5, 0.5, 0.5), (0.5, 0.5, 0.5))])\n",
    "\n",
    "trainset = torchvision.datasets.CIFAR10(root='./data', train=True,\n",
    "                                        download=True, transform=transform)\n",
    "trainloader = torch.utils.data.DataLoader(trainset, batch_size=4,\n",
    "                                          shuffle=True, num_workers=2)\n",
    "\n",
    "testset = torchvision.datasets.CIFAR10(root='./data', train=False,\n",
    "                                       download=True, transform=transform)\n",
    "testloader = torch.utils.data.DataLoader(testset, batch_size=4,\n",
    "                                         shuffle=False, num_workers=2)\n",
    "\n",
    "classes = ('plane', 'car', 'bird', 'cat',\n",
    "           'deer', 'dog', 'frog', 'horse', 'ship', 'truck')"
   ]
  },
  {
   "cell_type": "code",
   "execution_count": 29,
   "metadata": {},
   "outputs": [
    {
     "name": "stdout",
     "output_type": "stream",
     "text": [
      "Net(\n",
      "  (layer1): Sequential(\n",
      "    (conv1): Conv2d(3, 6, kernel_size=(3, 3), stride=(1, 1), padding=(1, 1))\n",
      "    (relu1): ReLU(inplace)\n",
      "    (pool1): MaxPool2d(kernel_size=2, stride=2, padding=0, dilation=1, ceil_mode=False)\n",
      "  )\n",
      "  (layer2): Sequential(\n",
      "    (conv2): Conv2d(6, 12, kernel_size=(3, 3), stride=(1, 1), padding=(1, 1))\n",
      "    (relu2): ReLU(inplace)\n",
      "    (pool2): MaxPool2d(kernel_size=2, stride=2, padding=0, dilation=1, ceil_mode=False)\n",
      "  )\n",
      "  (layer3): Sequential(\n",
      "    (conv3): Conv2d(12, 24, kernel_size=(3, 3), stride=(1, 1), padding=(1, 1))\n",
      "    (relu3): ReLU(inplace)\n",
      "    (pool3): MaxPool2d(kernel_size=2, stride=2, padding=0, dilation=1, ceil_mode=False)\n",
      "  )\n",
      "  (layer4): Sequential(\n",
      "    (fc1): Linear(in_features=384, out_features=120, bias=True)\n",
      "    (relu4): ReLU(inplace)\n",
      "    (fc2): Linear(in_features=120, out_features=84, bias=True)\n",
      "    (relu5): ReLU(inplace)\n",
      "    (fc3): Linear(in_features=84, out_features=10, bias=True)\n",
      "  )\n",
      ")\n"
     ]
    }
   ],
   "source": [
    "# 2. Define Net\n",
    "import torch.nn as nn\n",
    "import torch.nn.functional as F\n",
    "\n",
    "class Net(nn.Module):\n",
    "    # my first CNN Net   ( conv  - relu - maxpool ) * 3 + fc * 3\n",
    "    # input (4,3,32,32)\n",
    "    # output (4,10)\n",
    "    def __init__(self):\n",
    "        super(Net,self).__init__()\n",
    "        \n",
    "        # (3,32,32) -> (6,16,16)\n",
    "        layer1 = nn.Sequential()\n",
    "        layer1.add_module(\"conv1\",nn.Conv2d(3,6,3,stride=1,padding=1))\n",
    "        layer1.add_module(\"relu1\",nn.ReLU(True))\n",
    "        layer1.add_module(\"pool1\",nn.MaxPool2d(2,stride=2))\n",
    "        self.layer1 = layer1\n",
    "        \n",
    "        # (6,16,16) -> (12,8,8)\n",
    "        layer2 = nn.Sequential()\n",
    "        layer2.add_module(\"conv2\",nn.Conv2d(6,12,3,stride=1,padding=1))\n",
    "        layer2.add_module(\"relu2\",nn.ReLU(True))\n",
    "        layer2.add_module(\"pool2\",nn.MaxPool2d(2,stride=2))\n",
    "        self.layer2 = layer2\n",
    "        \n",
    "        # (12,8,8) -> (24,4,4)\n",
    "        layer3 = nn.Sequential()\n",
    "        layer3.add_module(\"conv3\",nn.Conv2d(12,24,3,stride=1,padding=1))\n",
    "        layer3.add_module(\"relu3\",nn.ReLU(True))\n",
    "        layer3.add_module(\"pool3\",nn.MaxPool2d(2,stride=2))\n",
    "        self.layer3 = layer3\n",
    "        \n",
    "        layer4 = nn.Sequential()\n",
    "        layer4.add_module(\"fc1\",nn.Linear(24*4*4, 120))\n",
    "        layer4.add_module(\"relu4\",nn.ReLU(True))\n",
    "        layer4.add_module(\"fc2\",nn.Linear(120, 84))\n",
    "        layer4.add_module(\"relu5\",nn.ReLU(True))\n",
    "        layer4.add_module(\"fc3\",nn.Linear(84, 10))\n",
    "        self.layer4 = layer4\n",
    "    \n",
    "    def forward(self, x):\n",
    "        conv1 = self.layer1(x)\n",
    "        conv2 = self.layer2(conv1)\n",
    "        conv3 = self.layer3(conv2)\n",
    "        mid = conv3.view(conv3.size(0),-1)\n",
    "        #print(mid.size())\n",
    "        out = self.layer4(mid)\n",
    "        return out\n",
    "    \n",
    "net = Net()\n",
    "print(net)\n",
    "        \n",
    "        "
   ]
  },
  {
   "cell_type": "code",
   "execution_count": 30,
   "metadata": {},
   "outputs": [],
   "source": [
    "# 3.Define loss function and update strategy\n",
    "import torch.optim as optim\n",
    "criterion = nn.CrossEntropyLoss()\n",
    "optimizer = optim.SGD(net.parameters(), lr = 0.001, momentum=0.9)"
   ]
  },
  {
   "cell_type": "code",
   "execution_count": 31,
   "metadata": {},
   "outputs": [
    {
     "name": "stdout",
     "output_type": "stream",
     "text": [
      "epoch: 0  iteration: 0 ----  loss:2.295497\n",
      "epoch: 0  iteration:2000 ----  loss:2.333959\n",
      "epoch: 0  iteration:4000 ----  loss:2.450923\n",
      "epoch: 0  iteration:6000 ----  loss:1.757332\n",
      "epoch: 0  iteration:8000 ----  loss:1.256238\n",
      "epoch: 0  iteration:10000 ----  loss:2.483727\n",
      "epoch: 0  iteration:12000 ----  loss:1.194417\n",
      "epoch: 1  iteration: 0 ----  loss:1.355987\n",
      "epoch: 1  iteration:2000 ----  loss:1.868031\n",
      "epoch: 1  iteration:4000 ----  loss:1.430183\n",
      "epoch: 1  iteration:6000 ----  loss:1.269344\n",
      "epoch: 1  iteration:8000 ----  loss:0.803906\n",
      "epoch: 1  iteration:10000 ----  loss:1.988281\n",
      "epoch: 1  iteration:12000 ----  loss:0.791740\n",
      "finish\n"
     ]
    }
   ],
   "source": [
    "# 4.Train the net\n",
    "epoch = 2\n",
    "for i in range(epoch):\n",
    "    for j, data in enumerate(trainloader):\n",
    "        imageBatch, labels = data\n",
    "        #print(imageBatch.size())\n",
    "        optimizer.zero_grad()\n",
    "        output = net.forward(imageBatch)\n",
    "        loss = criterion(output, labels)\n",
    "        loss.backward()\n",
    "        optimizer.step()\n",
    "        \n",
    "        if j%2000 == 0:\n",
    "            print(\"epoch:%2d  iteration:%2d ----  loss:%2f\"%(i,j,loss))\n",
    "print(\"finish\")"
   ]
  },
  {
   "cell_type": "code",
   "execution_count": 37,
   "metadata": {},
   "outputs": [
    {
     "name": "stdout",
     "output_type": "stream",
     "text": [
      "correct:5335\n",
      "total:10000\n",
      "accuracy:0.000000\n"
     ]
    }
   ],
   "source": [
    "# 5.Evaluate the net\n",
    "total = 0\n",
    "correct = 0\n",
    "for data in testloader:\n",
    "    imageBatch, labels = data\n",
    "    output = net.forward(imageBatch)\n",
    "    _,predict = torch.max(output,1)\n",
    "    #print(labels.size())\n",
    "    #print(predict.size())\n",
    "    total += labels.size(0)\n",
    "    correct += (predict == labels).sum()\n",
    "    #print(correct.size())\n",
    "    \n"
   ]
  },
  {
   "cell_type": "code",
   "execution_count": 43,
   "metadata": {},
   "outputs": [
    {
     "name": "stdout",
     "output_type": "stream",
     "text": [
      "correct:5335\n",
      "total:10000\n",
      "accuracy:53.35%\n"
     ]
    }
   ],
   "source": [
    "print(\"correct:%d\"%(correct))\n",
    "print(\"total:%d\"%(total))\n",
    "print(\"accuracy:%.2f%%\"%(float(correct)/ total*100))"
   ]
  },
  {
   "cell_type": "code",
   "execution_count": null,
   "metadata": {},
   "outputs": [],
   "source": []
  }
 ],
 "metadata": {
  "kernelspec": {
   "display_name": "Python 3",
   "language": "python",
   "name": "python3"
  },
  "language_info": {
   "codemirror_mode": {
    "name": "ipython",
    "version": 3
   },
   "file_extension": ".py",
   "mimetype": "text/x-python",
   "name": "python",
   "nbconvert_exporter": "python",
   "pygments_lexer": "ipython3",
   "version": "3.6.5"
  }
 },
 "nbformat": 4,
 "nbformat_minor": 2
}
